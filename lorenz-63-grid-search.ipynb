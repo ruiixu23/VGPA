{
 "cells": [
  {
   "cell_type": "markdown",
   "metadata": {},
   "source": [
    "## Imports\n",
    "---\n",
    "Before we begin, we import the top-level necessary packages. Moreover, we include the algorithm specific packages from the local directories."
   ]
  },
  {
   "cell_type": "code",
   "execution_count": null,
   "metadata": {
    "collapsed": true
   },
   "outputs": [],
   "source": [
    "# Get the system environment variables\n",
    "import os\n",
    "import pickle\n",
    "import sys\n",
    "\n",
    "from IPython import display\n",
    "\n",
    "\n",
    "# General Imports\n",
    "import numpy as np\n",
    "from time import time\n",
    "\n",
    "# Variational\n",
    "from auxiliary import collect_obs\n",
    "from auxiliary import initialize_Ab0\n",
    "from core import smoothing\n",
    "\n",
    "# Plotting\n",
    "from matplotlib import cm\n",
    "import matplotlib.pyplot as plt\n",
    "from mpl_toolkits.mplot3d import Axes3D\n",
    "\n",
    "# Dynamic\n",
    "from dynamics import sys_lorenz_63 as dynamics\n",
    "\n",
    "%matplotlib inline\n",
    "\n",
    "# Change the default figure size.\n",
    "plt.rcParams['figure.figsize'] = (10.0, 8.0)"
   ]
  },
  {
   "cell_type": "markdown",
   "metadata": {},
   "source": [
    "## Grid search for Lorenz 63"
   ]
  },
  {
   "cell_type": "code",
   "execution_count": null,
   "metadata": {
    "collapsed": true
   },
   "outputs": [],
   "source": [
    "def get_file_name(base_dir, theta_Drift):\n",
    "    return '{}/{:.2f}-{:.2f}-{:.2f}.pickle'.format(base_dir, theta_Drift[0], theta_Drift[1], theta_Drift[2])"
   ]
  },
  {
   "cell_type": "code",
   "execution_count": null,
   "metadata": {
    "collapsed": true
   },
   "outputs": [],
   "source": [
    "def get_sample_path_file_name(base_dir):\n",
    "    return '{}/sample.pickle'.format(base_dir)"
   ]
  },
  {
   "cell_type": "code",
   "execution_count": null,
   "metadata": {
    "collapsed": true
   },
   "outputs": [],
   "source": [
    "def generate_sample_path(base_dir):\n",
    "    '''\n",
    "    TIME-WINDOW PARAMETERS:\n",
    "    '''\n",
    "    # Initial, final and time step.\n",
    "    t0 = 0\n",
    "    tf = 20\n",
    "    dt = 0.01\n",
    "\n",
    "    # Define the time-window of inference.\n",
    "    Tw = np.arange(t0, tf + dt, dt)\n",
    "\n",
    "    # Number of discretized points.\n",
    "    N = Tw.shape[0]\n",
    "\n",
    "    '''\n",
    "    SYSTEM SPECIFIC PARAMETERS:\n",
    "    '''\n",
    "    # Dimensionality of the system.\n",
    "    D = 3\n",
    "\n",
    "    # Stochastic Noise (variance).\n",
    "    sigma_Noise = 10 * np.eye(D)\n",
    "\n",
    "    # Drift parameters (sigma, rho, beta).\n",
    "    theta_Drift = np.array([10, 28, 8. / 3])\n",
    "\n",
    "    # Observation Noise (variance).\n",
    "    obs_Noise = 2 * np.eye(D)\n",
    "\n",
    "    # Define the observation density (# of observations per time unit).\n",
    "    n_Obs = 5\n",
    "\n",
    "    # We need at least one observation (per time unit)\n",
    "    n_Obs = np.max([n_Obs, 1])\n",
    "\n",
    "    # Observation operator: np.eye(D)\n",
    "    H = np.eye(D)\n",
    "    \n",
    "    # Create the (artificial) true trajectory.\n",
    "    xt_true = dynamics.system_path(Tw, sigma_Noise, theta_Drift)\n",
    "\n",
    "    # Sample the noisy observations from the true path.\n",
    "    obsX, obsY = collect_obs.collect_obs(xt_true, Tw, n_Obs, obs_Noise)\n",
    "    \n",
    "    data = {\n",
    "        't0': t0,\n",
    "        'tf': tf,\n",
    "        'dt': dt,\n",
    "        'Tw': Tw,\n",
    "        'N': N,\n",
    "        'D': D,\n",
    "        'sigma_Noise': sigma_Noise,\n",
    "        'theta_Drift': theta_Drift,\n",
    "        'obs_Noise': obs_Noise,\n",
    "        'n_Obs': n_Obs,\n",
    "        'H': H,\n",
    "        'xt_true': xt_true,\n",
    "        'obsX': obsX,\n",
    "        'obsY': obsY\n",
    "    }\n",
    "    \n",
    "    file_name = get_sample_path_file_name(base_dir)\n",
    "    \n",
    "    with open(file_name, 'wb') as file:\n",
    "        pickle.dump(data, file)\n",
    "        \n",
    "    return data"
   ]
  },
  {
   "cell_type": "code",
   "execution_count": null,
   "metadata": {
    "collapsed": true
   },
   "outputs": [],
   "source": [
    "def load_sample_path(base_dir):\n",
    "    file_name = get_sample_path_file_name(base_dir)\n",
    "    with open(file_name, 'rb') as file:\n",
    "        return pickle.load(file)"
   ]
  },
  {
   "cell_type": "code",
   "execution_count": null,
   "metadata": {
    "collapsed": true
   },
   "outputs": [],
   "source": [
    "def run_grid_search(base_dir, data):\n",
    "    '''\n",
    "    PRIOR MOMEMTS:\n",
    "    '''\n",
    "    # Prior moment of initial condition noise variance.\n",
    "    # p(x0) ~ N(mu, tau0)\n",
    "    tau0 = 0.5 * np.eye(data['D'])\n",
    "\n",
    "    # Get the true sample value at time t=0\n",
    "    prior_x0 = {'mu0': data['xt_true'][0], 'tau0': tau0}\n",
    "\n",
    "    # Initial mean m(t=0)\n",
    "    m0 = data['xt_true'][0] + 0.1 * np.random.randn(1)\n",
    "\n",
    "    # Initial covariance matrix S(t=0): K*np.eye(D)\n",
    "    S0 = 0.25 * np.eye(data['D'])\n",
    "\n",
    "\n",
    "    '''\n",
    "    PACKING PARAMETERS:\n",
    "    '''\n",
    "    # ODE solver: {'Euler', 'Heun', 'RK2', 'RK4'}\n",
    "    ode_method = 'Euler'\n",
    "\n",
    "    # Create a dictionary to hold all the model parameters.\n",
    "    sde_struct = {\n",
    "        'Sig': data['sigma_Noise'], \n",
    "        'theta': data['theta_Drift'], \n",
    "        'Rig': data['obs_Noise'],\n",
    "        'D': data['D'], \n",
    "        'H': data['H'], \n",
    "        'obsX': data['obsX'],\n",
    "        'obsY': data['obsY'],\n",
    "        'px0': prior_x0,\n",
    "        'Tw': data['Tw'], \n",
    "        'dt': data['dt'], \n",
    "        'N': data['N'], \n",
    "        'ode_method': ode_method,\n",
    "        'checkGradf': False\n",
    "    }\n",
    "\n",
    "    '''\n",
    "    INITIALIZATION:\n",
    "    '''\n",
    "    # Maximum number of iterations.\n",
    "    nit = 500\n",
    "\n",
    "    # Generate initial variational parameters (initial search point).\n",
    "    Ab0 = initialize_Ab0.initialize_Ab0(S0, sde_struct)\n",
    "\n",
    "    # Main Operation.\n",
    "    print(' [VGPA] (Smoothing) Experiment in progress. Please wait ...')\n",
    "\n",
    "    # Start the timer.\n",
    "    tic = time()\n",
    "\n",
    "    # Full Variational approximation.\n",
    "    Fmin, mParam = smoothing.smoothing(dynamics.energy_mode, Ab0, m0, S0, sde_struct, nit)\n",
    "\n",
    "    # Stop the timer.\n",
    "    ttime = time() - tic\n",
    "        \n",
    "    result = {\n",
    "        'theta_Drift': data['theta_Drift'],\n",
    "        'Fmin': Fmin,\n",
    "        'mParam': mParam,\n",
    "        'ttime': ttime,\n",
    "    }\n",
    "\n",
    "    file_name = get_file_name(base_dir, data['theta_Drift'])\n",
    "    with open(file_name, 'wb') as file:\n",
    "        pickle.dump(result, file)"
   ]
  },
  {
   "cell_type": "code",
   "execution_count": null,
   "metadata": {},
   "outputs": [],
   "source": [
    "sigmas = [6, 6.5, 7, 7.5, 8, 8.5, 9, 9.5, 10, 10.5, 11, 11.5, 12, 12.5, 13, 13.5, 14, 14.5, 15, 15.5, 16]\n",
    "rhos = [24, 24.5, 25, 25.5, 26, 26.5, 27, 27.5, 28, 28.5, 29, 29.5, 30, 30.5, 31, 31.5, 32, 32.5, 33, 33.5, 34]\n",
    "betas = [1, 1.5, 2, 2.5, 8. / 3, 3, 3.5, 4]\n",
    "\n",
    "base_dir = './results/grid-lorenz-63/'\n",
    "\n",
    "theta_Drift_true = np.array([10, 28, 8. / 3])\n",
    "\n",
    "if not os.path.isfile(get_sample_path_file_name(base_dir)):\n",
    "    print('Generating new sample path')\n",
    "    generate_sample_path(base_dir)    \n",
    "\n",
    "test_data = load_sample_path(base_dir)\n",
    "run_grid_search(base_dir, test_data)\n",
    "\n",
    "for sigma in sigmas:\n",
    "    for rho in rhos:\n",
    "        for beta in betas:\n",
    "            theta_Drift_test = np.array([sigma, rho, beta])\n",
    "            if os.path.isfile(get_file_name(base_dir, theta_Drift_test)):\n",
    "                print('Skipped {}'.format(theta_Drift_test))\n",
    "            else:\n",
    "                print('Running for {}'.format(theta_Drift_test))\n",
    "                test_data = load_sample_path(base_dir)            \n",
    "                test_data['theta_Drift'] = theta_Drift_test\n",
    "                run_grid_search(base_dir, test_data)\n",
    "                display.clear_output()                 "
   ]
  },
  {
   "cell_type": "code",
   "execution_count": null,
   "metadata": {
    "collapsed": true
   },
   "outputs": [],
   "source": [
    "def load_surface_data(base_dir, sigmas, rhos, bestas):\n",
    "    surface_data = []\n",
    "    \n",
    "    for sigma in sigmas:\n",
    "        for rho in rhos:\n",
    "            for beta in betas:\n",
    "                file_name = get_file_name(base_dir, np.array([sigma, rho, beta]))\n",
    "                if not os.path.isfile(file_name):\n",
    "                    continue\n",
    "                    \n",
    "                with open(file_name, 'rb') as file:\n",
    "                    datum = pickle.load(file)\n",
    "                    surface_data.append([sigma, rho, beta, datum['Fmin']])\n",
    "    surface_data = np.array(surface_data)\n",
    "    return surface_data"
   ]
  },
  {
   "cell_type": "code",
   "execution_count": null,
   "metadata": {
    "collapsed": true
   },
   "outputs": [],
   "source": [
    "def plot_grid_search_result(data, x, x_range, y, y_range, f, f_level):    \n",
    "    fig = plt.figure(figsize=plt.figaspect(0.8))\n",
    "    ax = fig.add_subplot(1, 1, 1, projection='3d')\n",
    "\n",
    "    labels = ['σ', 'ρ', 'ß']\n",
    "    ax.set_xlabel(labels[x])\n",
    "    ax.set_ylabel(labels[y])\n",
    "    ax.set_zlabel('Free energy ({}={:.2f})'.format(labels[f], f_level))\n",
    "\n",
    "    X = []\n",
    "    Y = []\n",
    "    Z = []\n",
    "\n",
    "    for i in range(data.shape[0]):\n",
    "        if data[i, f] == f_level:\n",
    "            X.append(data[i, x])\n",
    "            Y.append(data[i, y])\n",
    "            Z.append(data[i, -1])\n",
    "            \n",
    "    X, Y = np.meshgrid(x_range, y_range)\n",
    "    Z = np.array(Z).reshape(X.shape)\n",
    "    surf = ax.plot_surface(X, Y, Z, linewidth=1, alpha=0.95, antialiased=True, \n",
    "                           rstride=1, cstride=1, cmap=cm.bone)\n",
    "    ax.view_init(elev=30, azim=-40)\n",
    "    plt.show()    \n",
    "    plt.savefig('{}-{}-{}.png'.format(x, y, f), dpi=270, bbox_inches='tight', pad_inches=0.2)"
   ]
  },
  {
   "cell_type": "code",
   "execution_count": null,
   "metadata": {
    "collapsed": true
   },
   "outputs": [],
   "source": [
    "sigmas = [6, 6.5, 7, 7.5, 8, 8.5, 9, 9.5, 10, 10.5, 11, 11.5, 12, 12.5, 13, 13.5, 14, 14.5, 15, 15.5, 16]\n",
    "rhos = [24, 24.5, 25, 25.5, 26, 26.5, 27, 27.5, 28, 28.5, 29, 29.5, 30, 30.5, 31, 31.5, 32, 32.5, 33, 33.5, 34]\n",
    "betas = [1, 1.25, 1.5, 1.75, 2, 2.25, 2.5, 2.75, 3, 3.25, 3.5, 3.75, 4]\n",
    "\n",
    "base_dir = './results/grid-lorenz-63/'\n",
    "\n",
    "%matplotlib notebook\n",
    "plt.rcParams['figure.figsize'] = (10.0, 8.0)\n",
    "\n",
    "surface_data = load_surface_data(base_dir, sigmas, rhos, betas)"
   ]
  },
  {
   "cell_type": "code",
   "execution_count": null,
   "metadata": {
    "collapsed": true,
    "scrolled": false
   },
   "outputs": [],
   "source": [
    "plot_grid_search_result(surface_data, 0, sigmas, 1, rhos, 2, 2.5)\n",
    "plot_grid_search_result(surface_data, 0, sigmas, 2, betas, 1, 28)\n",
    "plot_grid_search_result(surface_data, 1, rhos, 2, betas, 0, 10)"
   ]
  },
  {
   "cell_type": "code",
   "execution_count": null,
   "metadata": {
    "collapsed": true
   },
   "outputs": [],
   "source": []
  }
 ],
 "metadata": {
  "kernelspec": {
   "display_name": "Python 3",
   "language": "python",
   "name": "python3"
  },
  "language_info": {
   "codemirror_mode": {
    "name": "ipython",
    "version": 3
   },
   "file_extension": ".py",
   "mimetype": "text/x-python",
   "name": "python",
   "nbconvert_exporter": "python",
   "pygments_lexer": "ipython3",
   "version": "3.6.1"
  }
 },
 "nbformat": 4,
 "nbformat_minor": 1
}
